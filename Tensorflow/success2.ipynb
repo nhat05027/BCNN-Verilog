{
 "cells": [
  {
   "cell_type": "code",
   "execution_count": 1,
   "id": "96b00025-7e20-4d83-bd62-642b42c50b68",
   "metadata": {},
   "outputs": [
    {
     "name": "stdout",
     "output_type": "stream",
     "text": [
      "Fri Apr 18 22:09:11 2025       \n",
      "+-----------------------------------------------------------------------------------------+\n",
      "| NVIDIA-SMI 570.124.06             Driver Version: 572.70         CUDA Version: 12.8     |\n",
      "|-----------------------------------------+------------------------+----------------------+\n",
      "| GPU  Name                 Persistence-M | Bus-Id          Disp.A | Volatile Uncorr. ECC |\n",
      "| Fan  Temp   Perf          Pwr:Usage/Cap |           Memory-Usage | GPU-Util  Compute M. |\n",
      "|                                         |                        |               MIG M. |\n",
      "|=========================================+========================+======================|\n",
      "|   0  NVIDIA GeForce RTX 3050 ...    On  |   00000000:01:00.0  On |                  N/A |\n",
      "| N/A   50C    P8              8W /   45W |     410MiB /   4096MiB |      4%      Default |\n",
      "|                                         |                        |                  N/A |\n",
      "+-----------------------------------------+------------------------+----------------------+\n",
      "                                                                                         \n",
      "+-----------------------------------------------------------------------------------------+\n",
      "| Processes:                                                                              |\n",
      "|  GPU   GI   CI              PID   Type   Process name                        GPU Memory |\n",
      "|        ID   ID                                                               Usage      |\n",
      "|=========================================================================================|\n",
      "|  No running processes found                                                             |\n",
      "+-----------------------------------------------------------------------------------------+\n"
     ]
    }
   ],
   "source": [
    "!nvidia-smi"
   ]
  },
  {
   "cell_type": "code",
   "execution_count": 1,
   "id": "cacb42ba-ce6a-4525-b8db-40a7e54bba44",
   "metadata": {},
   "outputs": [
    {
     "name": "stderr",
     "output_type": "stream",
     "text": [
      "2025-04-25 21:27:50.455876: I tensorflow/core/util/port.cc:153] oneDNN custom operations are on. You may see slightly different numerical results due to floating-point round-off errors from different computation orders. To turn them off, set the environment variable `TF_ENABLE_ONEDNN_OPTS=0`.\n",
      "2025-04-25 21:27:50.705316: E external/local_xla/xla/stream_executor/cuda/cuda_fft.cc:477] Unable to register cuFFT factory: Attempting to register factory for plugin cuFFT when one has already been registered\n",
      "WARNING: All log messages before absl::InitializeLog() is called are written to STDERR\n",
      "E0000 00:00:1745591270.790903     632 cuda_dnn.cc:8310] Unable to register cuDNN factory: Attempting to register factory for plugin cuDNN when one has already been registered\n",
      "E0000 00:00:1745591270.814171     632 cuda_blas.cc:1418] Unable to register cuBLAS factory: Attempting to register factory for plugin cuBLAS when one has already been registered\n",
      "2025-04-25 21:27:50.997500: I tensorflow/core/platform/cpu_feature_guard.cc:210] This TensorFlow binary is optimized to use available CPU instructions in performance-critical operations.\n",
      "To enable the following instructions: AVX2 AVX512F AVX512_VNNI FMA, in other operations, rebuild TensorFlow with the appropriate compiler flags.\n"
     ]
    }
   ],
   "source": [
    "import os\n",
    "import numpy as np\n",
    "import tensorflow as tf\n",
    "from tensorflow.keras import layers, models, datasets\n",
    "from tensorflow.keras.preprocessing.image import ImageDataGenerator"
   ]
  },
  {
   "cell_type": "code",
   "execution_count": 2,
   "id": "bbd338e8-ff19-4646-9977-1703126aa64f",
   "metadata": {},
   "outputs": [
    {
     "name": "stderr",
     "output_type": "stream",
     "text": [
      "W0000 00:00:1745591274.340678     632 gpu_device.cc:2344] Cannot dlopen some GPU libraries. Please make sure the missing libraries mentioned above are installed properly if you would like to use GPU. Follow the guide at https://www.tensorflow.org/install/gpu for how to download and setup the required libraries for your platform.\n",
      "Skipping registering GPU devices...\n"
     ]
    },
    {
     "data": {
      "text/html": [
       "<pre style=\"white-space:pre;overflow-x:auto;line-height:normal;font-family:Menlo,'DejaVu Sans Mono',consolas,'Courier New',monospace\"><span style=\"font-weight: bold\">Model: \"sequential\"</span>\n",
       "</pre>\n"
      ],
      "text/plain": [
       "\u001b[1mModel: \"sequential\"\u001b[0m\n"
      ]
     },
     "metadata": {},
     "output_type": "display_data"
    },
    {
     "data": {
      "text/html": [
       "<pre style=\"white-space:pre;overflow-x:auto;line-height:normal;font-family:Menlo,'DejaVu Sans Mono',consolas,'Courier New',monospace\">┏━━━━━━━━━━━━━━━━━━━━━━━━━━━━━━━━━┳━━━━━━━━━━━━━━━━━━━━━━━━┳━━━━━━━━━━━━━━━┓\n",
       "┃<span style=\"font-weight: bold\"> Layer (type)                    </span>┃<span style=\"font-weight: bold\"> Output Shape           </span>┃<span style=\"font-weight: bold\">       Param # </span>┃\n",
       "┡━━━━━━━━━━━━━━━━━━━━━━━━━━━━━━━━━╇━━━━━━━━━━━━━━━━━━━━━━━━╇━━━━━━━━━━━━━━━┩\n",
       "│ conv1 (<span style=\"color: #0087ff; text-decoration-color: #0087ff\">BinaryConv2D</span>)            │ (<span style=\"color: #00d7ff; text-decoration-color: #00d7ff\">None</span>, <span style=\"color: #00af00; text-decoration-color: #00af00\">28</span>, <span style=\"color: #00af00; text-decoration-color: #00af00\">28</span>, <span style=\"color: #00af00; text-decoration-color: #00af00\">4</span>)      │            <span style=\"color: #00af00; text-decoration-color: #00af00\">36</span> │\n",
       "├─────────────────────────────────┼────────────────────────┼───────────────┤\n",
       "│ batchnormalize1                 │ (<span style=\"color: #00d7ff; text-decoration-color: #00d7ff\">None</span>, <span style=\"color: #00af00; text-decoration-color: #00af00\">28</span>, <span style=\"color: #00af00; text-decoration-color: #00af00\">28</span>, <span style=\"color: #00af00; text-decoration-color: #00af00\">4</span>)      │            <span style=\"color: #00af00; text-decoration-color: #00af00\">16</span> │\n",
       "│ (<span style=\"color: #0087ff; text-decoration-color: #0087ff\">BatchNormalization</span>)            │                        │               │\n",
       "├─────────────────────────────────┼────────────────────────┼───────────────┤\n",
       "│ activation1 (<span style=\"color: #0087ff; text-decoration-color: #0087ff\">ReLU</span>)              │ (<span style=\"color: #00d7ff; text-decoration-color: #00d7ff\">None</span>, <span style=\"color: #00af00; text-decoration-color: #00af00\">28</span>, <span style=\"color: #00af00; text-decoration-color: #00af00\">28</span>, <span style=\"color: #00af00; text-decoration-color: #00af00\">4</span>)      │             <span style=\"color: #00af00; text-decoration-color: #00af00\">0</span> │\n",
       "├─────────────────────────────────┼────────────────────────┼───────────────┤\n",
       "│ conv2 (<span style=\"color: #0087ff; text-decoration-color: #0087ff\">BinaryConv2D</span>)            │ (<span style=\"color: #00d7ff; text-decoration-color: #00d7ff\">None</span>, <span style=\"color: #00af00; text-decoration-color: #00af00\">28</span>, <span style=\"color: #00af00; text-decoration-color: #00af00\">28</span>, <span style=\"color: #00af00; text-decoration-color: #00af00\">4</span>)      │           <span style=\"color: #00af00; text-decoration-color: #00af00\">144</span> │\n",
       "├─────────────────────────────────┼────────────────────────┼───────────────┤\n",
       "│ batchnormalize2                 │ (<span style=\"color: #00d7ff; text-decoration-color: #00d7ff\">None</span>, <span style=\"color: #00af00; text-decoration-color: #00af00\">28</span>, <span style=\"color: #00af00; text-decoration-color: #00af00\">28</span>, <span style=\"color: #00af00; text-decoration-color: #00af00\">4</span>)      │            <span style=\"color: #00af00; text-decoration-color: #00af00\">16</span> │\n",
       "│ (<span style=\"color: #0087ff; text-decoration-color: #0087ff\">BatchNormalization</span>)            │                        │               │\n",
       "├─────────────────────────────────┼────────────────────────┼───────────────┤\n",
       "│ activation2 (<span style=\"color: #0087ff; text-decoration-color: #0087ff\">ReLU</span>)              │ (<span style=\"color: #00d7ff; text-decoration-color: #00d7ff\">None</span>, <span style=\"color: #00af00; text-decoration-color: #00af00\">28</span>, <span style=\"color: #00af00; text-decoration-color: #00af00\">28</span>, <span style=\"color: #00af00; text-decoration-color: #00af00\">4</span>)      │             <span style=\"color: #00af00; text-decoration-color: #00af00\">0</span> │\n",
       "├─────────────────────────────────┼────────────────────────┼───────────────┤\n",
       "│ pool1 (<span style=\"color: #0087ff; text-decoration-color: #0087ff\">MaxPooling2D</span>)            │ (<span style=\"color: #00d7ff; text-decoration-color: #00d7ff\">None</span>, <span style=\"color: #00af00; text-decoration-color: #00af00\">14</span>, <span style=\"color: #00af00; text-decoration-color: #00af00\">14</span>, <span style=\"color: #00af00; text-decoration-color: #00af00\">4</span>)      │             <span style=\"color: #00af00; text-decoration-color: #00af00\">0</span> │\n",
       "├─────────────────────────────────┼────────────────────────┼───────────────┤\n",
       "│ conv3 (<span style=\"color: #0087ff; text-decoration-color: #0087ff\">BinaryConv2D</span>)            │ (<span style=\"color: #00d7ff; text-decoration-color: #00d7ff\">None</span>, <span style=\"color: #00af00; text-decoration-color: #00af00\">14</span>, <span style=\"color: #00af00; text-decoration-color: #00af00\">14</span>, <span style=\"color: #00af00; text-decoration-color: #00af00\">8</span>)      │           <span style=\"color: #00af00; text-decoration-color: #00af00\">288</span> │\n",
       "├─────────────────────────────────┼────────────────────────┼───────────────┤\n",
       "│ batchnormalize3                 │ (<span style=\"color: #00d7ff; text-decoration-color: #00d7ff\">None</span>, <span style=\"color: #00af00; text-decoration-color: #00af00\">14</span>, <span style=\"color: #00af00; text-decoration-color: #00af00\">14</span>, <span style=\"color: #00af00; text-decoration-color: #00af00\">8</span>)      │            <span style=\"color: #00af00; text-decoration-color: #00af00\">32</span> │\n",
       "│ (<span style=\"color: #0087ff; text-decoration-color: #0087ff\">BatchNormalization</span>)            │                        │               │\n",
       "├─────────────────────────────────┼────────────────────────┼───────────────┤\n",
       "│ activation3 (<span style=\"color: #0087ff; text-decoration-color: #0087ff\">ReLU</span>)              │ (<span style=\"color: #00d7ff; text-decoration-color: #00d7ff\">None</span>, <span style=\"color: #00af00; text-decoration-color: #00af00\">14</span>, <span style=\"color: #00af00; text-decoration-color: #00af00\">14</span>, <span style=\"color: #00af00; text-decoration-color: #00af00\">8</span>)      │             <span style=\"color: #00af00; text-decoration-color: #00af00\">0</span> │\n",
       "├─────────────────────────────────┼────────────────────────┼───────────────┤\n",
       "│ conv4 (<span style=\"color: #0087ff; text-decoration-color: #0087ff\">BinaryConv2D</span>)            │ (<span style=\"color: #00d7ff; text-decoration-color: #00d7ff\">None</span>, <span style=\"color: #00af00; text-decoration-color: #00af00\">14</span>, <span style=\"color: #00af00; text-decoration-color: #00af00\">14</span>, <span style=\"color: #00af00; text-decoration-color: #00af00\">8</span>)      │           <span style=\"color: #00af00; text-decoration-color: #00af00\">576</span> │\n",
       "├─────────────────────────────────┼────────────────────────┼───────────────┤\n",
       "│ batchnormalize4                 │ (<span style=\"color: #00d7ff; text-decoration-color: #00d7ff\">None</span>, <span style=\"color: #00af00; text-decoration-color: #00af00\">14</span>, <span style=\"color: #00af00; text-decoration-color: #00af00\">14</span>, <span style=\"color: #00af00; text-decoration-color: #00af00\">8</span>)      │            <span style=\"color: #00af00; text-decoration-color: #00af00\">32</span> │\n",
       "│ (<span style=\"color: #0087ff; text-decoration-color: #0087ff\">BatchNormalization</span>)            │                        │               │\n",
       "├─────────────────────────────────┼────────────────────────┼───────────────┤\n",
       "│ activation4 (<span style=\"color: #0087ff; text-decoration-color: #0087ff\">ReLU</span>)              │ (<span style=\"color: #00d7ff; text-decoration-color: #00d7ff\">None</span>, <span style=\"color: #00af00; text-decoration-color: #00af00\">14</span>, <span style=\"color: #00af00; text-decoration-color: #00af00\">14</span>, <span style=\"color: #00af00; text-decoration-color: #00af00\">8</span>)      │             <span style=\"color: #00af00; text-decoration-color: #00af00\">0</span> │\n",
       "├─────────────────────────────────┼────────────────────────┼───────────────┤\n",
       "│ pool2 (<span style=\"color: #0087ff; text-decoration-color: #0087ff\">MaxPooling2D</span>)            │ (<span style=\"color: #00d7ff; text-decoration-color: #00d7ff\">None</span>, <span style=\"color: #00af00; text-decoration-color: #00af00\">7</span>, <span style=\"color: #00af00; text-decoration-color: #00af00\">7</span>, <span style=\"color: #00af00; text-decoration-color: #00af00\">8</span>)        │             <span style=\"color: #00af00; text-decoration-color: #00af00\">0</span> │\n",
       "├─────────────────────────────────┼────────────────────────┼───────────────┤\n",
       "│ conv5 (<span style=\"color: #0087ff; text-decoration-color: #0087ff\">BinaryConv2D</span>)            │ (<span style=\"color: #00d7ff; text-decoration-color: #00d7ff\">None</span>, <span style=\"color: #00af00; text-decoration-color: #00af00\">7</span>, <span style=\"color: #00af00; text-decoration-color: #00af00\">7</span>, <span style=\"color: #00af00; text-decoration-color: #00af00\">16</span>)       │         <span style=\"color: #00af00; text-decoration-color: #00af00\">1,152</span> │\n",
       "├─────────────────────────────────┼────────────────────────┼───────────────┤\n",
       "│ batchnormalize5                 │ (<span style=\"color: #00d7ff; text-decoration-color: #00d7ff\">None</span>, <span style=\"color: #00af00; text-decoration-color: #00af00\">7</span>, <span style=\"color: #00af00; text-decoration-color: #00af00\">7</span>, <span style=\"color: #00af00; text-decoration-color: #00af00\">16</span>)       │            <span style=\"color: #00af00; text-decoration-color: #00af00\">64</span> │\n",
       "│ (<span style=\"color: #0087ff; text-decoration-color: #0087ff\">BatchNormalization</span>)            │                        │               │\n",
       "├─────────────────────────────────┼────────────────────────┼───────────────┤\n",
       "│ activation5 (<span style=\"color: #0087ff; text-decoration-color: #0087ff\">ReLU</span>)              │ (<span style=\"color: #00d7ff; text-decoration-color: #00d7ff\">None</span>, <span style=\"color: #00af00; text-decoration-color: #00af00\">7</span>, <span style=\"color: #00af00; text-decoration-color: #00af00\">7</span>, <span style=\"color: #00af00; text-decoration-color: #00af00\">16</span>)       │             <span style=\"color: #00af00; text-decoration-color: #00af00\">0</span> │\n",
       "├─────────────────────────────────┼────────────────────────┼───────────────┤\n",
       "│ pool3 (<span style=\"color: #0087ff; text-decoration-color: #0087ff\">GlobalMaxPooling2D</span>)      │ (<span style=\"color: #00d7ff; text-decoration-color: #00d7ff\">None</span>, <span style=\"color: #00af00; text-decoration-color: #00af00\">16</span>)             │             <span style=\"color: #00af00; text-decoration-color: #00af00\">0</span> │\n",
       "├─────────────────────────────────┼────────────────────────┼───────────────┤\n",
       "│ dense1 (<span style=\"color: #0087ff; text-decoration-color: #0087ff\">Dense</span>)                  │ (<span style=\"color: #00d7ff; text-decoration-color: #00d7ff\">None</span>, <span style=\"color: #00af00; text-decoration-color: #00af00\">10</span>)             │           <span style=\"color: #00af00; text-decoration-color: #00af00\">170</span> │\n",
       "└─────────────────────────────────┴────────────────────────┴───────────────┘\n",
       "</pre>\n"
      ],
      "text/plain": [
       "┏━━━━━━━━━━━━━━━━━━━━━━━━━━━━━━━━━┳━━━━━━━━━━━━━━━━━━━━━━━━┳━━━━━━━━━━━━━━━┓\n",
       "┃\u001b[1m \u001b[0m\u001b[1mLayer (type)                   \u001b[0m\u001b[1m \u001b[0m┃\u001b[1m \u001b[0m\u001b[1mOutput Shape          \u001b[0m\u001b[1m \u001b[0m┃\u001b[1m \u001b[0m\u001b[1m      Param #\u001b[0m\u001b[1m \u001b[0m┃\n",
       "┡━━━━━━━━━━━━━━━━━━━━━━━━━━━━━━━━━╇━━━━━━━━━━━━━━━━━━━━━━━━╇━━━━━━━━━━━━━━━┩\n",
       "│ conv1 (\u001b[38;5;33mBinaryConv2D\u001b[0m)            │ (\u001b[38;5;45mNone\u001b[0m, \u001b[38;5;34m28\u001b[0m, \u001b[38;5;34m28\u001b[0m, \u001b[38;5;34m4\u001b[0m)      │            \u001b[38;5;34m36\u001b[0m │\n",
       "├─────────────────────────────────┼────────────────────────┼───────────────┤\n",
       "│ batchnormalize1                 │ (\u001b[38;5;45mNone\u001b[0m, \u001b[38;5;34m28\u001b[0m, \u001b[38;5;34m28\u001b[0m, \u001b[38;5;34m4\u001b[0m)      │            \u001b[38;5;34m16\u001b[0m │\n",
       "│ (\u001b[38;5;33mBatchNormalization\u001b[0m)            │                        │               │\n",
       "├─────────────────────────────────┼────────────────────────┼───────────────┤\n",
       "│ activation1 (\u001b[38;5;33mReLU\u001b[0m)              │ (\u001b[38;5;45mNone\u001b[0m, \u001b[38;5;34m28\u001b[0m, \u001b[38;5;34m28\u001b[0m, \u001b[38;5;34m4\u001b[0m)      │             \u001b[38;5;34m0\u001b[0m │\n",
       "├─────────────────────────────────┼────────────────────────┼───────────────┤\n",
       "│ conv2 (\u001b[38;5;33mBinaryConv2D\u001b[0m)            │ (\u001b[38;5;45mNone\u001b[0m, \u001b[38;5;34m28\u001b[0m, \u001b[38;5;34m28\u001b[0m, \u001b[38;5;34m4\u001b[0m)      │           \u001b[38;5;34m144\u001b[0m │\n",
       "├─────────────────────────────────┼────────────────────────┼───────────────┤\n",
       "│ batchnormalize2                 │ (\u001b[38;5;45mNone\u001b[0m, \u001b[38;5;34m28\u001b[0m, \u001b[38;5;34m28\u001b[0m, \u001b[38;5;34m4\u001b[0m)      │            \u001b[38;5;34m16\u001b[0m │\n",
       "│ (\u001b[38;5;33mBatchNormalization\u001b[0m)            │                        │               │\n",
       "├─────────────────────────────────┼────────────────────────┼───────────────┤\n",
       "│ activation2 (\u001b[38;5;33mReLU\u001b[0m)              │ (\u001b[38;5;45mNone\u001b[0m, \u001b[38;5;34m28\u001b[0m, \u001b[38;5;34m28\u001b[0m, \u001b[38;5;34m4\u001b[0m)      │             \u001b[38;5;34m0\u001b[0m │\n",
       "├─────────────────────────────────┼────────────────────────┼───────────────┤\n",
       "│ pool1 (\u001b[38;5;33mMaxPooling2D\u001b[0m)            │ (\u001b[38;5;45mNone\u001b[0m, \u001b[38;5;34m14\u001b[0m, \u001b[38;5;34m14\u001b[0m, \u001b[38;5;34m4\u001b[0m)      │             \u001b[38;5;34m0\u001b[0m │\n",
       "├─────────────────────────────────┼────────────────────────┼───────────────┤\n",
       "│ conv3 (\u001b[38;5;33mBinaryConv2D\u001b[0m)            │ (\u001b[38;5;45mNone\u001b[0m, \u001b[38;5;34m14\u001b[0m, \u001b[38;5;34m14\u001b[0m, \u001b[38;5;34m8\u001b[0m)      │           \u001b[38;5;34m288\u001b[0m │\n",
       "├─────────────────────────────────┼────────────────────────┼───────────────┤\n",
       "│ batchnormalize3                 │ (\u001b[38;5;45mNone\u001b[0m, \u001b[38;5;34m14\u001b[0m, \u001b[38;5;34m14\u001b[0m, \u001b[38;5;34m8\u001b[0m)      │            \u001b[38;5;34m32\u001b[0m │\n",
       "│ (\u001b[38;5;33mBatchNormalization\u001b[0m)            │                        │               │\n",
       "├─────────────────────────────────┼────────────────────────┼───────────────┤\n",
       "│ activation3 (\u001b[38;5;33mReLU\u001b[0m)              │ (\u001b[38;5;45mNone\u001b[0m, \u001b[38;5;34m14\u001b[0m, \u001b[38;5;34m14\u001b[0m, \u001b[38;5;34m8\u001b[0m)      │             \u001b[38;5;34m0\u001b[0m │\n",
       "├─────────────────────────────────┼────────────────────────┼───────────────┤\n",
       "│ conv4 (\u001b[38;5;33mBinaryConv2D\u001b[0m)            │ (\u001b[38;5;45mNone\u001b[0m, \u001b[38;5;34m14\u001b[0m, \u001b[38;5;34m14\u001b[0m, \u001b[38;5;34m8\u001b[0m)      │           \u001b[38;5;34m576\u001b[0m │\n",
       "├─────────────────────────────────┼────────────────────────┼───────────────┤\n",
       "│ batchnormalize4                 │ (\u001b[38;5;45mNone\u001b[0m, \u001b[38;5;34m14\u001b[0m, \u001b[38;5;34m14\u001b[0m, \u001b[38;5;34m8\u001b[0m)      │            \u001b[38;5;34m32\u001b[0m │\n",
       "│ (\u001b[38;5;33mBatchNormalization\u001b[0m)            │                        │               │\n",
       "├─────────────────────────────────┼────────────────────────┼───────────────┤\n",
       "│ activation4 (\u001b[38;5;33mReLU\u001b[0m)              │ (\u001b[38;5;45mNone\u001b[0m, \u001b[38;5;34m14\u001b[0m, \u001b[38;5;34m14\u001b[0m, \u001b[38;5;34m8\u001b[0m)      │             \u001b[38;5;34m0\u001b[0m │\n",
       "├─────────────────────────────────┼────────────────────────┼───────────────┤\n",
       "│ pool2 (\u001b[38;5;33mMaxPooling2D\u001b[0m)            │ (\u001b[38;5;45mNone\u001b[0m, \u001b[38;5;34m7\u001b[0m, \u001b[38;5;34m7\u001b[0m, \u001b[38;5;34m8\u001b[0m)        │             \u001b[38;5;34m0\u001b[0m │\n",
       "├─────────────────────────────────┼────────────────────────┼───────────────┤\n",
       "│ conv5 (\u001b[38;5;33mBinaryConv2D\u001b[0m)            │ (\u001b[38;5;45mNone\u001b[0m, \u001b[38;5;34m7\u001b[0m, \u001b[38;5;34m7\u001b[0m, \u001b[38;5;34m16\u001b[0m)       │         \u001b[38;5;34m1,152\u001b[0m │\n",
       "├─────────────────────────────────┼────────────────────────┼───────────────┤\n",
       "│ batchnormalize5                 │ (\u001b[38;5;45mNone\u001b[0m, \u001b[38;5;34m7\u001b[0m, \u001b[38;5;34m7\u001b[0m, \u001b[38;5;34m16\u001b[0m)       │            \u001b[38;5;34m64\u001b[0m │\n",
       "│ (\u001b[38;5;33mBatchNormalization\u001b[0m)            │                        │               │\n",
       "├─────────────────────────────────┼────────────────────────┼───────────────┤\n",
       "│ activation5 (\u001b[38;5;33mReLU\u001b[0m)              │ (\u001b[38;5;45mNone\u001b[0m, \u001b[38;5;34m7\u001b[0m, \u001b[38;5;34m7\u001b[0m, \u001b[38;5;34m16\u001b[0m)       │             \u001b[38;5;34m0\u001b[0m │\n",
       "├─────────────────────────────────┼────────────────────────┼───────────────┤\n",
       "│ pool3 (\u001b[38;5;33mGlobalMaxPooling2D\u001b[0m)      │ (\u001b[38;5;45mNone\u001b[0m, \u001b[38;5;34m16\u001b[0m)             │             \u001b[38;5;34m0\u001b[0m │\n",
       "├─────────────────────────────────┼────────────────────────┼───────────────┤\n",
       "│ dense1 (\u001b[38;5;33mDense\u001b[0m)                  │ (\u001b[38;5;45mNone\u001b[0m, \u001b[38;5;34m10\u001b[0m)             │           \u001b[38;5;34m170\u001b[0m │\n",
       "└─────────────────────────────────┴────────────────────────┴───────────────┘\n"
      ]
     },
     "metadata": {},
     "output_type": "display_data"
    },
    {
     "data": {
      "text/html": [
       "<pre style=\"white-space:pre;overflow-x:auto;line-height:normal;font-family:Menlo,'DejaVu Sans Mono',consolas,'Courier New',monospace\"><span style=\"font-weight: bold\"> Total params: </span><span style=\"color: #00af00; text-decoration-color: #00af00\">2,526</span> (9.87 KB)\n",
       "</pre>\n"
      ],
      "text/plain": [
       "\u001b[1m Total params: \u001b[0m\u001b[38;5;34m2,526\u001b[0m (9.87 KB)\n"
      ]
     },
     "metadata": {},
     "output_type": "display_data"
    },
    {
     "data": {
      "text/html": [
       "<pre style=\"white-space:pre;overflow-x:auto;line-height:normal;font-family:Menlo,'DejaVu Sans Mono',consolas,'Courier New',monospace\"><span style=\"font-weight: bold\"> Trainable params: </span><span style=\"color: #00af00; text-decoration-color: #00af00\">2,446</span> (9.55 KB)\n",
       "</pre>\n"
      ],
      "text/plain": [
       "\u001b[1m Trainable params: \u001b[0m\u001b[38;5;34m2,446\u001b[0m (9.55 KB)\n"
      ]
     },
     "metadata": {},
     "output_type": "display_data"
    },
    {
     "data": {
      "text/html": [
       "<pre style=\"white-space:pre;overflow-x:auto;line-height:normal;font-family:Menlo,'DejaVu Sans Mono',consolas,'Courier New',monospace\"><span style=\"font-weight: bold\"> Non-trainable params: </span><span style=\"color: #00af00; text-decoration-color: #00af00\">80</span> (320.00 B)\n",
       "</pre>\n"
      ],
      "text/plain": [
       "\u001b[1m Non-trainable params: \u001b[0m\u001b[38;5;34m80\u001b[0m (320.00 B)\n"
      ]
     },
     "metadata": {},
     "output_type": "display_data"
    }
   ],
   "source": [
    "# Binary Convolutional Layer with STE\n",
    "class BinaryConv2D(layers.Layer):\n",
    "    def __init__(self, filters, kernel_size, strides=(1,1), padding='same', **kwargs):\n",
    "        super(BinaryConv2D, self).__init__(**kwargs)\n",
    "        self.filters = filters\n",
    "        self.kernel_size = kernel_size\n",
    "        self.strides = strides\n",
    "        self.padding = padding\n",
    "\n",
    "    def build(self, input_shape):\n",
    "        # Full-precision weights storage\n",
    "        self.kernel = self.add_weight(\n",
    "            name='kernel',\n",
    "            shape=(self.kernel_size, self.kernel_size, input_shape[-1], self.filters),\n",
    "            initializer='glorot_uniform',\n",
    "            trainable=True\n",
    "        )\n",
    "        super(BinaryConv2D, self).build(input_shape)\n",
    "        \n",
    "    @tf.custom_gradient\n",
    "    def binarize(self, weights):\n",
    "        def grad(dy, variables=None):\n",
    "            assert variables is not None\n",
    "            return dy  # Straight-Through Estimator\n",
    "        return tf.sign(weights), grad\n",
    "\n",
    "    def call(self, inputs):\n",
    "        binary_kernel = self.binarize(self.kernel)\n",
    "        return tf.nn.conv2d(\n",
    "            inputs,\n",
    "            binary_kernel,\n",
    "            strides=[1, self.strides[0], self.strides[1], 1],\n",
    "            padding=self.padding.upper()\n",
    "        )\n",
    "\n",
    "    def get_config(self):\n",
    "        config = super().get_config().copy()\n",
    "        config.update({\n",
    "            'filters': self.filters,\n",
    "            'kernel_size': self.kernel_size,\n",
    "            'strides': self.strides,\n",
    "            'padding': self.padding,\n",
    "        })\n",
    "        return config\n",
    "        \n",
    "# Build Binary CNN Model\n",
    "def create_binary_model():\n",
    "    model = models.Sequential([\n",
    "        # Input layer\n",
    "        layers.InputLayer(shape=(28, 28, 1)),\n",
    "        \n",
    "        # Block 1\n",
    "        BinaryConv2D(4, 3, padding='same', name='conv1'),\n",
    "        layers.BatchNormalization(name='batchnormalize1'),\n",
    "        layers.ReLU(name='activation1'),\n",
    "        BinaryConv2D(4, 3, padding='same', name='conv2'),\n",
    "        layers.BatchNormalization(name='batchnormalize2'),\n",
    "        layers.ReLU(name='activation2'),\n",
    "        layers.MaxPooling2D(2, name='pool1'),\n",
    "        \n",
    "        # Block 2\n",
    "        BinaryConv2D(8, 3, padding='same', name='conv3'),\n",
    "        layers.BatchNormalization(name='batchnormalize3'),\n",
    "        layers.ReLU(name='activation3'),\n",
    "        BinaryConv2D(8, 3, padding='same', name='conv4'),\n",
    "        layers.BatchNormalization(name='batchnormalize4'),\n",
    "        layers.ReLU(name='activation4'),\n",
    "        layers.MaxPooling2D(2, name='pool2'),\n",
    "        \n",
    "        # Block 3\n",
    "        BinaryConv2D(16, 3, padding='same', name='conv5'),\n",
    "        layers.BatchNormalization(name='batchnormalize5'),\n",
    "        layers.ReLU(name='activation5'),\n",
    "        layers.GlobalMaxPooling2D(name='pool3'),\n",
    "        \n",
    "        # Output\n",
    "        layers.Dense(10, activation='softmax', name='dense1')\n",
    "    ])\n",
    "    return model\n",
    "# Create and compile model\n",
    "model = create_binary_model()\n",
    "model.summary()"
   ]
  },
  {
   "cell_type": "code",
   "execution_count": 3,
   "id": "4fd94c69-df00-4605-ad3d-c5f51df78010",
   "metadata": {},
   "outputs": [],
   "source": [
    "import matplotlib.cm as cm\n",
    "import matplotlib.pyplot as plt\n",
    "# Load and preprocess MNIST data\n",
    "(x_train, y_train), (x_test, y_test) = datasets.mnist.load_data()\n",
    "\n",
    "x_train = x_train.reshape(-1, 28, 28, 1).astype('float32') / 255\n",
    "x_test = x_test.reshape(-1, 28, 28, 1).astype('float32') / 255\n",
    "x_train = (x_train - 0.5) * 2.0  # Scale to [-1, 1]\n",
    "x_test = (x_test - 0.5) * 2.0\n"
   ]
  },
  {
   "cell_type": "code",
   "execution_count": 4,
   "id": "493b1893-8d74-43ab-82f7-74492f1a62d2",
   "metadata": {},
   "outputs": [
    {
     "name": "stderr",
     "output_type": "stream",
     "text": [
      "/home/nhat/.local/lib/python3.10/site-packages/keras/src/saving/saving_lib.py:757: UserWarning: Skipping variable loading for optimizer 'adam', because it has 2 variables whereas the saved optimizer has 35 variables. \n",
      "  saveable.load_own_variables(weights_store.get(inner_path))\n"
     ]
    },
    {
     "name": "stdout",
     "output_type": "stream",
     "text": [
      "313/313 - 1s - 4ms/step - accuracy: 0.9236 - loss: 0.2533\n",
      "Restored model, accuracy: 92.36%\n"
     ]
    }
   ],
   "source": [
    "model.compile(\n",
    "    optimizer=tf.keras.optimizers.Adam(),\n",
    "    loss='sparse_categorical_crossentropy',\n",
    "    metrics=['accuracy']\n",
    ")\n",
    "# Create callbacks\n",
    "checkpoint_path = \"training_1/cp5.keras\"\n",
    "checkpoint_dir = os.path.dirname(checkpoint_path)\n",
    "# Loads the weights\n",
    "model.load_weights(checkpoint_path)\n",
    "\n",
    "# Re-evaluate the model\n",
    "loss, acc = model.evaluate(x_test, y_test, verbose=2)\n",
    "print(\"Restored model, accuracy: {:5.2f}%\".format(100 * acc))"
   ]
  },
  {
   "cell_type": "code",
   "execution_count": 7,
   "id": "f2a629f1-a372-49f6-9669-359bb44c6f3b",
   "metadata": {},
   "outputs": [
    {
     "name": "stdout",
     "output_type": "stream",
     "text": [
      "Unique weight values after binarization: [[-1. -1. -1.]\n",
      " [-1. -1. -1.]\n",
      " [-1.  1.  1.]]\n"
     ]
    }
   ],
   "source": [
    "# for layer in model.layers: print(layer.get_config(), layer.get_weights())\n",
    "# Check weights in first convolutional layer\n",
    "conv1_weights = model.get_layer('conv1').get_weights()[0][:, :, 0, 0]\n",
    "print(\"Unique weight values after binarization:\", tf.sign(conv1_weights).numpy())"
   ]
  },
  {
   "cell_type": "code",
   "execution_count": 22,
   "id": "29a25b64-dadf-4713-882c-74a0ca20db3c",
   "metadata": {},
   "outputs": [
    {
     "data": {
      "image/png": "[encoded data removed]",
      "text/plain": [
       "<Figure size 640x480 with 1 Axes>"
      ]
     },
     "metadata": {},
     "output_type": "display_data"
    },
    {
     "name": "stdout",
     "output_type": "stream",
     "text": [
      "\u001b[1m1/1\u001b[0m \u001b[32m━━━━━━━━━━━━━━━━━━━━\u001b[0m\u001b[37m\u001b[0m \u001b[1m0s\u001b[0m 99ms/step\n",
      "[2.1113630e-03 9.7437584e-01 1.7157120e-04 1.7080944e-04 8.8155791e-03\n",
      " 1.2199727e-03 9.4094435e-03 1.3741275e-03 2.1301073e-03 2.2116273e-04]\n",
      "1\n"
     ]
    }
   ],
   "source": [
    "mnist_og = x_test[2]\n",
    "plt.imshow(mnist_og, cmap=cm.Greys_r)\n",
    "plt.show()\n",
    "# print(mnist_og.reshape(28,28))\n",
    "# mnist_og\n",
    "mnist_og.shape\n",
    "mnist_og = np.expand_dims(mnist_og, axis=0)\n",
    "# print(mnist_og)\n",
    "prediction = model.predict(mnist_og)\n",
    "print(prediction[0])\n",
    "print(np.argmax(prediction[0]))"
   ]
  },
  {
   "cell_type": "code",
   "execution_count": 23,
   "id": "71623b70-a516-4cdd-9372-8b9b6f073868",
   "metadata": {
    "scrolled": true
   },
   "outputs": [
    {
     "data": {
      "image/png": "[encoded data removed]",
      "text/plain": [
       "<Figure size 640x480 with 1 Axes>"
      ]
     },
     "metadata": {},
     "output_type": "display_data"
    },
    {
     "data": {
      "image/png": "[encoded data removed]",
      "text/plain": [
       "<Figure size 640x480 with 1 Axes>"
      ]
     },
     "metadata": {},
     "output_type": "display_data"
    },
    {
     "name": "stdout",
     "output_type": "stream",
     "text": [
      "[[ 0.     2.     2.     2.     2.     2.     2.     2.     2.     2.\n",
      "   2.     2.     2.     2.     2.     2.     2.     2.     2.     2.\n",
      "   2.     2.     2.     2.     2.     2.     2.     2.   ]\n",
      " [ 2.     5.     5.     5.     5.     5.     5.     5.     5.     5.\n",
      "   5.     5.     5.     5.     5.     5.     5.     5.     5.     5.\n",
      "   5.     5.     5.     5.     5.     5.     5.     4.   ]\n",
      " [ 2.     5.     5.     5.     5.     5.     5.     5.     5.     5.\n",
      "   5.     5.     5.     5.     5.     5.     5.     5.     5.     5.\n",
      "   5.     5.     5.     5.     5.     5.     5.     4.   ]\n",
      " [ 2.     5.     5.     5.     5.     5.     5.     5.     5.     5.\n",
      "   5.     5.     5.     5.     5.     5.298  7.29   7.549  3.863  4.145\n",
      "   5.     5.     5.     5.     5.     5.     5.     4.   ]\n",
      " [ 2.     5.     5.     5.     5.     5.     5.     5.     5.     5.\n",
      "   5.     5.     5.     5.     5.     5.384  5.369  3.792  0.82   3.502\n",
      "   5.     5.     5.     5.     5.     5.     5.     4.   ]\n",
      " [ 2.     5.     5.     5.     5.     5.     5.     5.     5.     5.\n",
      "   5.     5.     5.     5.     5.     5.078  3.    -0.616 -2.357  3.502\n",
      "   5.     5.     5.     5.     5.     5.     5.     4.   ]\n",
      " [ 2.     5.     5.     5.     5.     5.     5.     5.     5.     5.\n",
      "   5.     5.     5.     5.     5.353  5.525  2.129 -1.988 -0.686  4.357\n",
      "   5.     5.     5.     5.     5.     5.     5.     4.   ]\n",
      " [ 2.     5.     5.     5.     5.     5.     5.     5.     5.     5.\n",
      "   5.     5.     5.     5.     5.306  4.325  0.435 -2.537  1.439  5.\n",
      "   5.     5.     5.     5.     5.     5.     5.     4.   ]\n",
      " [ 2.     5.     5.     5.     5.     5.     5.     5.     5.     5.\n",
      "   5.     5.     5.     5.     5.573  3.416 -1.337 -2.239  3.243  5.\n",
      "   5.     5.     5.     5.     5.     5.     5.     4.   ]\n",
      " [ 2.     5.     5.     5.     5.     5.     5.     5.     5.     5.\n",
      "   5.     5.     5.     5.251  5.     2.451 -1.863 -1.016  4.42   5.\n",
      "   5.     5.     5.     5.     5.     5.     5.     4.   ]\n",
      " [ 2.     5.     5.     5.     5.     5.     5.     5.     5.     5.\n",
      "   5.     5.     5.     5.494  3.91   0.506 -2.569 -0.059  4.914  5.\n",
      "   5.     5.     5.     5.     5.     5.     5.     4.   ]\n",
      " [ 2.     5.     5.     5.     5.     5.     5.     5.     5.     5.\n",
      "   5.     5.     5.     5.102  3.11  -1.706 -3.596  1.173  5.     5.\n",
      "   5.     5.     5.     5.     5.     5.     5.     4.   ]\n",
      " [ 2.     5.     5.     5.     5.     5.     5.     5.     5.     5.\n",
      "   5.     5.     5.447  5.463  2.192 -3.149 -2.663  2.804  5.     5.\n",
      "   5.     5.     5.     5.     5.     5.     5.     4.   ]\n",
      " [ 2.     5.     5.     5.     5.     5.     5.     5.     5.     5.\n",
      "   5.     5.     5.525  4.569  0.318 -2.929 -0.561  4.333  5.     5.\n",
      "   5.     5.     5.     5.     5.     5.     5.     4.   ]\n",
      " [ 2.     5.     5.     5.     5.     5.     5.     5.     5.     5.\n",
      "   5.     5.     4.922  3.055 -1.894 -3.18   1.4    4.937  5.     5.\n",
      "   5.     5.     5.     5.     5.     5.     5.     4.   ]\n",
      " [ 2.     5.     5.     5.     5.     5.     5.     5.     5.     5.\n",
      "   5.     5.188  4.694  2.012 -3.369 -2.608  3.071  5.     5.     5.\n",
      "   5.     5.     5.     5.     5.     5.     5.     4.   ]\n",
      " [ 2.     5.     5.     5.     5.     5.     5.     5.     5.     5.\n",
      "   5.     5.753  4.584  0.271 -3.22  -0.561  4.365  5.     5.     5.\n",
      "   5.     5.     5.     5.     5.     5.     5.     4.   ]\n",
      " [ 2.     5.     5.     5.     5.     5.     5.     5.     5.     5.\n",
      "   5.     5.055  3.235 -0.953 -2.624  0.953  5.     5.     5.     5.\n",
      "   5.     5.     5.     5.     5.     5.     5.     4.   ]\n",
      " [ 2.     5.     5.     5.     5.     5.     5.     5.     5.     5.\n",
      "   5.     4.663  2.671 -2.749 -2.82   2.122  5.     5.     5.     5.\n",
      "   5.     5.     5.     5.     5.     5.     5.     4.   ]\n",
      " [ 2.     5.     5.     5.     5.     5.     5.     5.     5.     5.\n",
      "   5.478  4.475  1.525 -3.047 -2.09   2.851  5.     5.     5.     5.\n",
      "   5.     5.     5.     5.     5.     5.     5.     4.   ]\n",
      " [ 2.     5.     5.     5.     5.     5.     5.     5.     5.     5.\n",
      "   5.627  3.863 -0.725 -4.137 -1.604  3.941  5.     5.     5.     5.\n",
      "   5.     5.     5.     5.     5.     5.     5.     4.   ]\n",
      " [ 2.     5.     5.     5.     5.     5.     5.     5.     5.     5.078\n",
      "   5.18   3.055 -2.89  -4.145 -0.09   4.459  5.     5.     5.     5.\n",
      "   5.     5.     5.     5.     5.     5.     5.     4.   ]\n",
      " [ 2.     5.     5.     5.     5.     5.     5.     5.     5.     4.961\n",
      "   3.722  1.039 -4.427 -2.867  2.341  4.976  5.     5.     5.     5.\n",
      "   5.     5.     5.     5.     5.     5.     5.     4.   ]\n",
      " [ 2.     5.     5.     5.     5.     5.     5.     5.     5.     4.882\n",
      "   1.643 -1.729 -2.639  0.6    3.973  5.     5.     5.     5.     5.\n",
      "   5.     5.     5.     5.     5.     5.     5.     4.   ]\n",
      " [ 2.     5.     5.     5.     5.     5.     5.     5.     5.     4.961\n",
      "   3.408  2.027  1.988  3.541  4.922  5.     5.     5.     5.     5.\n",
      "   5.     5.     5.     5.     5.     5.     5.     4.   ]\n",
      " [ 2.     5.     5.     5.     5.     5.     5.     5.     5.     5.\n",
      "   5.     5.     5.     5.     5.     5.     5.     5.     5.     5.\n",
      "   5.     5.     5.     5.     5.     5.     5.     4.   ]\n",
      " [ 2.     5.     5.     5.     5.     5.     5.     5.     5.     5.\n",
      "   5.     5.     5.     5.     5.     5.     5.     5.     5.     5.\n",
      "   5.     5.     5.     5.     5.     5.     5.     4.   ]\n",
      " [ 4.     6.     6.     6.     6.     6.     6.     6.     6.     6.\n",
      "   6.     6.     6.     6.     6.     6.     6.     6.     6.     6.\n",
      "   6.     6.     6.     6.     6.     6.     6.     4.   ]]\n"
     ]
    }
   ],
   "source": [
    "base_input = model.layers[0].input\n",
    "layer1_output1_np = np.round(tf.keras.Model(base_input, model.get_layer( model.layers[0].name ).output)(mnist_og)[0][:, :, 0].numpy().reshape(-1), 3)\n",
    "layer1_output2_np = np.round(tf.keras.Model(base_input, model.get_layer( model.layers[0].name ).output)(mnist_og)[0][:, :, 1].numpy().reshape(-1), 3)\n",
    "plt.imshow(layer1_output1_np.reshape((28,28)), cmap=cm.Greys_r)\n",
    "plt.show()\n",
    "plt.imshow(layer1_output2_np.reshape((28,28)), cmap=cm.Greys_r)\n",
    "plt.show()\n",
    "print(layer1_output1_np.reshape((28,28)))"
   ]
  },
  {
   "cell_type": "code",
   "execution_count": 8,
   "id": "753b81fc-e6fc-48a8-9e88-9de9266482f7",
   "metadata": {},
   "outputs": [
    {
     "data": {
      "image/png": "[encoded data removed]",
      "text/plain": [
       "<Figure size 640x480 with 1 Axes>"
      ]
     },
     "metadata": {},
     "output_type": "display_data"
    },
    {
     "data": {
      "image/png": "[encoded data removed]",
      "text/plain": [
       "<Figure size 640x480 with 1 Axes>"
      ]
     },
     "metadata": {},
     "output_type": "display_data"
    },
    {
     "name": "stdout",
     "output_type": "stream",
     "text": [
      "[[0.943 0.567 0.026 0.026 0.026 0.026 0.026 0.026 0.026 0.026 0.026 0.026\n",
      "  0.026 0.026 0.026 0.026 0.026 0.026 0.026 0.026 0.026 0.026 0.026 0.026\n",
      "  0.026 0.026 0.491 0.704]\n",
      " [0.579 0.    0.    0.    0.    0.    0.    0.    0.    0.    0.    0.\n",
      "  0.    0.    0.    0.    0.    0.    0.    0.    0.    0.    0.    0.\n",
      "  0.    0.    0.    0.265]\n",
      " [0.67  0.    0.    0.    0.    0.    0.    0.    0.    0.    0.    0.\n",
      "  0.    0.    0.    0.    0.    0.    0.    0.    0.    0.    0.    0.\n",
      "  0.    0.    0.077 0.24 ]\n",
      " [0.67  0.    0.    0.    0.    0.    0.    0.    0.    0.    0.    0.\n",
      "  0.    0.    0.    0.    0.    0.    0.    0.    0.    0.    0.    0.\n",
      "  0.    0.    0.077 0.24 ]\n",
      " [0.67  0.    0.    0.    0.    0.    0.    0.    0.    0.    0.    0.\n",
      "  0.    0.    0.197 0.475 0.936 0.876 1.363 1.151 1.56  1.443 1.3   0.764\n",
      "  0.    0.    0.077 0.24 ]\n",
      " [0.67  0.    0.    0.    0.    0.    0.    0.    0.    0.34  0.907 1.437\n",
      "  1.773 2.233 2.548 2.753 3.309 3.094 3.35  2.712 3.107 3.094 2.686 1.613\n",
      "  0.257 0.    0.077 0.24 ]\n",
      " [0.67  0.    0.    0.    0.    0.    0.    0.458 1.734 2.459 3.247 3.795\n",
      "  3.917 4.177 4.028 3.846 3.455 2.983 2.436 1.855 1.492 1.351 1.216 0.694\n",
      "  0.079 0.    0.077 0.24 ]\n",
      " [0.67  0.    0.    0.    0.    0.    0.308 1.146 2.788 3.25  3.466 3.419\n",
      "  3.18  2.89  2.594 2.465 2.403 2.236 1.524 1.05  0.426 0.426 0.285 0.\n",
      "  0.    0.    0.077 0.24 ]\n",
      " [0.67  0.    0.    0.    0.    0.    0.047 0.412 1.364 1.789 2.149 2.668\n",
      "  2.736 2.282 1.707 1.368 1.459 1.589 1.006 0.462 0.    0.    0.    0.\n",
      "  0.    0.    0.077 0.24 ]\n",
      " [0.67  0.    0.    0.    0.    0.    0.    0.    0.485 0.915 1.304 1.979\n",
      "  2.431 2.123 1.394 0.769 0.391 0.637 0.05  0.    0.    0.    0.    0.\n",
      "  0.    0.    0.077 0.24 ]\n",
      " [0.67  0.    0.    0.    0.    0.    0.    0.    0.    0.298 0.743 1.774\n",
      "  2.511 2.419 1.45  0.343 0.    0.    0.    0.    0.    0.    0.    0.\n",
      "  0.    0.    0.077 0.24 ]\n",
      " [0.67  0.    0.    0.    0.    0.    0.    0.    0.    0.    0.168 1.286\n",
      "  2.342 2.545 1.74  0.702 0.    0.    0.    0.    0.    0.    0.    0.\n",
      "  0.    0.    0.077 0.24 ]\n",
      " [0.67  0.    0.    0.    0.    0.    0.    0.    0.    0.    0.    0.479\n",
      "  1.706 2.545 2.715 1.854 1.108 0.198 0.    0.    0.    0.    0.    0.\n",
      "  0.    0.    0.077 0.24 ]\n",
      " [0.67  0.    0.    0.    0.    0.    0.    0.    0.    0.    0.    0.\n",
      "  0.734 1.941 2.764 3.1   2.83  1.507 0.775 0.    0.    0.    0.    0.\n",
      "  0.    0.    0.077 0.24 ]\n",
      " [0.67  0.    0.    0.    0.    0.    0.    0.    0.    0.    0.    0.\n",
      "  0.013 0.814 1.691 2.283 3.04  2.903 1.873 1.002 0.    0.    0.    0.\n",
      "  0.    0.    0.077 0.24 ]\n",
      " [0.67  0.    0.    0.    0.    0.    0.    0.    0.    0.    0.    0.\n",
      "  0.    0.014 0.614 1.26  2.068 2.949 2.966 2.098 0.782 0.    0.    0.\n",
      "  0.    0.    0.077 0.24 ]\n",
      " [0.67  0.    0.    0.    0.    0.    0.    0.    0.    0.    0.    0.\n",
      "  0.    0.    0.    0.63  1.48  2.743 3.021 2.892 1.176 0.114 0.    0.\n",
      "  0.    0.    0.077 0.24 ]\n",
      " [0.67  0.    0.    0.    0.    0.    0.    0.    0.    0.    0.    0.\n",
      "  0.    0.    0.348 1.388 2.004 2.894 3.085 2.714 1.368 0.27  0.    0.\n",
      "  0.    0.    0.077 0.24 ]\n",
      " [0.67  0.    0.    0.    0.    0.    0.    0.    0.    0.    0.    0.\n",
      "  0.595 1.558 2.585 3.253 3.16  2.975 2.802 2.325 0.999 0.177 0.    0.\n",
      "  0.    0.    0.077 0.24 ]\n",
      " [0.67  0.    0.    0.    0.    0.    0.    0.    0.    0.    0.387 1.409\n",
      "  2.514 3.433 3.627 3.43  2.764 2.126 1.84  1.297 0.42  0.    0.    0.\n",
      "  0.    0.    0.077 0.24 ]\n",
      " [0.67  0.    0.    0.    0.    0.    0.    0.    0.302 1.252 2.269 3.2\n",
      "  3.508 3.258 2.692 2.171 1.63  1.12  0.619 0.281 0.    0.    0.    0.\n",
      "  0.    0.    0.077 0.24 ]\n",
      " [0.67  0.    0.    0.    0.    0.    0.503 1.439 2.345 3.143 3.588 3.423\n",
      "  2.812 2.217 1.654 1.169 0.673 0.368 0.    0.    0.    0.    0.    0.\n",
      "  0.    0.    0.077 0.24 ]\n",
      " [0.67  0.    0.    0.    0.399 1.563 2.438 3.54  3.641 3.375 2.834 2.376\n",
      "  1.859 1.324 0.748 0.395 0.    0.    0.    0.    0.    0.    0.    0.\n",
      "  0.    0.    0.077 0.24 ]\n",
      " [0.67  0.    0.    0.384 1.51  2.559 2.736 2.549 2.228 1.915 1.593 1.326\n",
      "  0.923 0.514 0.    0.    0.    0.    0.    0.    0.    0.    0.    0.\n",
      "  0.    0.    0.077 0.24 ]\n",
      " [0.67  0.    0.    0.241 0.844 1.253 1.161 1.026 1.006 0.796 0.643 0.395\n",
      "  0.057 0.    0.    0.    0.    0.    0.    0.    0.    0.    0.    0.\n",
      "  0.    0.    0.077 0.24 ]\n",
      " [0.67  0.    0.    0.    0.    0.    0.052 0.042 0.038 0.    0.    0.\n",
      "  0.    0.    0.    0.    0.    0.    0.    0.    0.    0.    0.    0.\n",
      "  0.    0.    0.077 0.24 ]\n",
      " [0.775 0.274 0.    0.    0.    0.    0.    0.    0.    0.    0.    0.\n",
      "  0.    0.    0.    0.    0.    0.    0.    0.    0.    0.    0.    0.\n",
      "  0.    0.    0.342 0.487]\n",
      " [0.976 0.652 0.278 0.278 0.278 0.278 0.278 0.278 0.278 0.278 0.278 0.278\n",
      "  0.278 0.278 0.278 0.278 0.278 0.278 0.278 0.278 0.278 0.278 0.278 0.278\n",
      "  0.278 0.278 0.795 0.764]]\n"
     ]
    }
   ],
   "source": [
    "base_input = model.layers[0].input\n",
    "layer1_output1_np = np.round(tf.keras.Model(base_input, model.get_layer( model.layers[5].name ).output)(mnist_og)[0][:, :, 0].numpy().reshape(-1), 3)\n",
    "layer1_output2_np = np.round(tf.keras.Model(base_input, model.get_layer( model.layers[5].name ).output)(mnist_og)[0][:, :, 1].numpy().reshape(-1), 3)\n",
    "plt.imshow(layer1_output1_np.reshape((28,28)), cmap=cm.Greys_r)\n",
    "plt.show()\n",
    "plt.imshow(layer1_output2_np.reshape((28,28)), cmap=cm.Greys_r)\n",
    "plt.show()\n",
    "print(layer1_output2_np.reshape((28,28)))"
   ]
  },
  {
   "cell_type": "code",
   "execution_count": null,
   "id": "e23ea67b-ba04-4bc9-901c-ae36150b6bc8",
   "metadata": {},
   "outputs": [],
   "source": [
    "for layer in model.layers:\n",
    "    weights = layer.get_weights()\n",
    "    print(f\"Layer: {layer.name}\")\n",
    "    for weight in weights:\n",
    "        print(weight)"
   ]
  },
  {
   "cell_type": "code",
   "execution_count": null,
   "id": "71cc5d9b-5369-42d3-807a-a310dc899876",
   "metadata": {},
   "outputs": [],
   "source": [
    "conv1_weights = model.get_layer('conv1').get_weights()[0][:, :, 0, 3]\n",
    "print(\"Unique weight values after binarization:\", tf.sign(conv1_weights).numpy())"
   ]
  },
  {
   "cell_type": "code",
   "execution_count": null,
   "id": "603925f5-c55b-45ef-b53e-dbb6f67a007f",
   "metadata": {},
   "outputs": [],
   "source": [
    "conv1_weights = model.get_layer('batchnormalize1').get_weights()[:,:,0,0]\n",
    "print(\"Unique weight values after binarization:\", conv1_weights)"
   ]
  },
  {
   "cell_type": "markdown",
   "id": "d243f74f-c7e9-47f6-8c4f-df5c356ce5e1",
   "metadata": {},
   "source": [
    "# Calculate network"
   ]
  },
  {
   "cell_type": "code",
   "execution_count": 6,
   "id": "19e6ddb0-26c3-45b7-ace5-2dfd93321bca",
   "metadata": {},
   "outputs": [
    {
     "data": {
      "image/png": "[encoded data removed]",
      "text/plain": [
       "<Figure size 640x480 with 1 Axes>"
      ]
     },
     "metadata": {},
     "output_type": "display_data"
    }
   ],
   "source": [
    "test = x_train[0]\n",
    "plt.imshow(test, cmap=cm.Greys_r)\n",
    "plt.show()\n",
    "test = np.pad(test.reshape((28,28)), ((1, 1), (1, 1)), 'constant', constant_values=((0, 0), (0,0)))"
   ]
  },
  {
   "cell_type": "markdown",
   "id": "62ddcab1-4091-4a5c-b1a2-8ea25cff6ade",
   "metadata": {},
   "source": [
    "## Conv1 + BM + RelU"
   ]
  },
  {
   "cell_type": "code",
   "execution_count": 8,
   "id": "fee116f6-ae9a-4050-a33e-87144757c714",
   "metadata": {},
   "outputs": [
    {
     "data": {
      "image/png": "[encoded data removed]",
      "text/plain": [
       "<Figure size 800x800 with 4 Axes>"
      ]
     },
     "metadata": {},
     "output_type": "display_data"
    }
   ],
   "source": [
    "size_k = 4\n",
    "a = np.zeros((size_k ,28,28))\n",
    "for i in range(28):\n",
    "    for j in range(28):\n",
    "        for k in range(size_k):\n",
    "            a[k][i][j]= np.sum(test.reshape((30,30))[i:i+3,j:j+3]*tf.sign(model.layers[0].get_weights()[0][:, :, 0, k]))\n",
    "            a[k][i][j] = (a[k][i][j]-model.layers[1].get_weights()[2][k])/np.sqrt(model.layers[1].get_weights()[3][k])*model.layers[1].get_weights()[0][k]+model.layers[1].get_weights()[1][k]\n",
    "            if a[k][i][j] < 0: a[k][i][j]=0\n",
    "\n",
    "# for k in range(size_k):\n",
    "#     plt.imshow(a[k], cmap=cm.Greys_r)\n",
    "#     plt.show()\n",
    "fig, axes = plt.subplots(2, 2, figsize=(8, 8))\n",
    "axes[0,0].imshow(a[0], cmap=cm.Greys_r)\n",
    "axes[0,1].imshow(a[1], cmap=cm.Greys_r)\n",
    "axes[1,0].imshow(a[2], cmap=cm.Greys_r)\n",
    "axes[1,1].imshow(a[3], cmap=cm.Greys_r)\n",
    "plt.show()"
   ]
  },
  {
   "cell_type": "markdown",
   "id": "e095bd75-f859-4aa0-b55c-426ee6c924b3",
   "metadata": {},
   "source": [
    "## Conv2 + BM + RelU"
   ]
  },
  {
   "cell_type": "code",
   "execution_count": 9,
   "id": "8987f35e-e81e-428c-8dad-bf340f2602f9",
   "metadata": {},
   "outputs": [
    {
     "data": {
      "image/png": "[encoded data removed]",
      "text/plain": [
       "<Figure size 800x800 with 4 Axes>"
      ]
     },
     "metadata": {},
     "output_type": "display_data"
    }
   ],
   "source": [
    "size_k = 4\n",
    "size_w = 4\n",
    "aa = np.zeros((size_k ,30,30))\n",
    "for k in range(size_w):\n",
    "    aa[k] = np.pad(a[k].reshape((28,28)), ((1, 1), (1, 1)), 'constant', constant_values=((0, 0), (0,0)))\n",
    "b = np.zeros((size_k ,28,28))\n",
    "for i in range(28):\n",
    "    for j in range(28):\n",
    "        for k in range(size_k):\n",
    "            for w in range(size_w):\n",
    "                b[k][i][j] = b[k][i][j] + np.sum(aa[w][i:i+3,j:j+3]*tf.sign(model.layers[3].get_weights()[0][:, :,w, k]))\n",
    "            b[k][i][j] = (b[k][i][j]-model.layers[4].get_weights()[2][k])/np.sqrt(model.layers[4].get_weights()[3][k])*model.layers[4].get_weights()[0][k]+model.layers[4].get_weights()[1][k]\n",
    "            if b[k][i][j] < 0: b[k][i][j]=0\n",
    "\n",
    "# for k in range(size_k):\n",
    "#     plt.imshow(b[k], cmap=cm.Greys_r)\n",
    "#     plt.show()\n",
    "fig, axes = plt.subplots(2, 2, figsize=(8, 8))\n",
    "axes[0,0].imshow(b[0], cmap=cm.Greys_r)\n",
    "axes[0,1].imshow(b[1], cmap=cm.Greys_r)\n",
    "axes[1,0].imshow(b[2], cmap=cm.Greys_r)\n",
    "axes[1,1].imshow(b[3], cmap=cm.Greys_r)\n",
    "plt.show()"
   ]
  },
  {
   "cell_type": "markdown",
   "id": "fe140fc4-28d6-46e9-8970-856716ba77cd",
   "metadata": {},
   "source": [
    "## Maxpool1"
   ]
  },
  {
   "cell_type": "code",
   "execution_count": 10,
   "id": "344caa75-c1f7-406f-b386-afaec2b22138",
   "metadata": {},
   "outputs": [
    {
     "data": {
      "image/png": "[encoded data removed]",
      "text/plain": [
       "<Figure size 800x800 with 4 Axes>"
      ]
     },
     "metadata": {},
     "output_type": "display_data"
    }
   ],
   "source": [
    "size_k = 4\n",
    "c = np.zeros((size_k ,14,14))\n",
    "for i in range(14):\n",
    "    for j in range(14):\n",
    "        for k in range(size_k):\n",
    "            c[k][i][j]= np.max(b[k][2*i:2*i+2,2*j:2*j+2])\n",
    "\n",
    "# for k in range(size_k):\n",
    "#     plt.imshow(c[k], cmap=cm.Greys_r)\n",
    "#     plt.show()\n",
    "fig, axes = plt.subplots(2, 2, figsize=(8, 8))\n",
    "axes[0,0].imshow(c[0], cmap=cm.Greys_r)\n",
    "axes[0,1].imshow(c[1], cmap=cm.Greys_r)\n",
    "axes[1,0].imshow(c[2], cmap=cm.Greys_r)\n",
    "axes[1,1].imshow(c[3], cmap=cm.Greys_r)\n",
    "plt.show()"
   ]
  },
  {
   "cell_type": "code",
   "execution_count": 11,
   "id": "946e77b9-fdbe-4254-893b-46301344f11f",
   "metadata": {},
   "outputs": [
    {
     "data": {
      "image/png": "[encoded data removed]",
      "text/plain": [
       "<Figure size 800x800 with 8 Axes>"
      ]
     },
     "metadata": {},
     "output_type": "display_data"
    }
   ],
   "source": [
    "size_k = 8\n",
    "size_w = 4\n",
    "cc = np.zeros((size_w ,16,16))\n",
    "for w in range(size_w):\n",
    "    cc[w] = np.pad(c[w].reshape((14,14)), ((1, 1), (1, 1)), 'constant', constant_values=((0, 0), (0,0)))\n",
    "d = np.zeros((size_k ,14,14))\n",
    "for i in range(14):\n",
    "    for j in range(14):\n",
    "        for k in range(size_k):\n",
    "            for w in range(size_w):\n",
    "                d[k][i][j] = d[k][i][j] + np.sum(cc[w][i:i+3,j:j+3]*tf.sign(model.layers[7].get_weights()[0][:, :,w, k]))\n",
    "            d[k][i][j] = (d[k][i][j]-model.layers[8].get_weights()[2][k])/np.sqrt(model.layers[8].get_weights()[3][k])*model.layers[8].get_weights()[0][k]+model.layers[8].get_weights()[1][k]\n",
    "            if d[k][i][j] < 0: d[k][i][j]=0\n",
    "\n",
    "# for k in range(size_k):\n",
    "#     plt.imshow(d[k], cmap=cm.Greys_r)\n",
    "#     plt.show()\n",
    "fig, axes = plt.subplots(4, 2, figsize=(8, 8))\n",
    "axes[0,0].imshow(d[0], cmap=cm.Greys_r)\n",
    "axes[0,1].imshow(d[1], cmap=cm.Greys_r)\n",
    "axes[1,0].imshow(d[2], cmap=cm.Greys_r)\n",
    "axes[1,1].imshow(d[3], cmap=cm.Greys_r)\n",
    "\n",
    "axes[2,0].imshow(d[4], cmap=cm.Greys_r)\n",
    "axes[2,1].imshow(d[5], cmap=cm.Greys_r)\n",
    "axes[3,0].imshow(d[6], cmap=cm.Greys_r)\n",
    "axes[3,1].imshow(d[7], cmap=cm.Greys_r)\n",
    "plt.show()"
   ]
  },
  {
   "cell_type": "code",
   "execution_count": 12,
   "id": "535c6656-e89a-4779-ba28-510dcc901d3a",
   "metadata": {},
   "outputs": [
    {
     "data": {
      "image/png": "[encoded data removed]",
      "text/plain": [
       "<Figure size 800x800 with 8 Axes>"
      ]
     },
     "metadata": {},
     "output_type": "display_data"
    }
   ],
   "source": [
    "size_k = 8\n",
    "size_w = 8\n",
    "dd = np.zeros((size_k ,16,16))\n",
    "for w in range(size_w):\n",
    "    dd[w] = np.pad(d[w].reshape((14,14)), ((1, 1), (1, 1)), 'constant', constant_values=((0, 0), (0,0)))\n",
    "e = np.zeros((size_k ,14,14))\n",
    "for i in range(14):\n",
    "    for j in range(14):\n",
    "        for k in range(size_k):\n",
    "            for w in range(size_w):\n",
    "                e[k][i][j] = e[k][i][j] + np.sum(dd[w][i:i+3,j:j+3]*tf.sign(model.layers[10].get_weights()[0][:, :,w, k]))\n",
    "            e[k][i][j] = (e[k][i][j]-model.layers[11].get_weights()[2][k])/np.sqrt(model.layers[11].get_weights()[3][k])*model.layers[11].get_weights()[0][k]+model.layers[11].get_weights()[1][k]\n",
    "            if e[k][i][j] < 0: e[k][i][j]=0\n",
    "\n",
    "# for k in range(size_k):\n",
    "#     plt.imshow(e[k], cmap=cm.Greys_r)\n",
    "#     plt.show()\n",
    "fig, axes = plt.subplots(4, 2, figsize=(8, 8))\n",
    "axes[0,0].imshow(e[0], cmap=cm.Greys_r)\n",
    "axes[0,1].imshow(e[1], cmap=cm.Greys_r)\n",
    "axes[1,0].imshow(e[2], cmap=cm.Greys_r)\n",
    "axes[1,1].imshow(e[3], cmap=cm.Greys_r)\n",
    "\n",
    "axes[2,0].imshow(e[4], cmap=cm.Greys_r)\n",
    "axes[2,1].imshow(e[5], cmap=cm.Greys_r)\n",
    "axes[3,0].imshow(e[6], cmap=cm.Greys_r)\n",
    "axes[3,1].imshow(e[7], cmap=cm.Greys_r)\n",
    "plt.show()"
   ]
  },
  {
   "cell_type": "code",
   "execution_count": 13,
   "id": "96f79fb3-7776-4a5a-960a-476b3f542e99",
   "metadata": {},
   "outputs": [
    {
     "data": {
      "image/png": "[encoded data removed]",
      "text/plain": [
       "<Figure size 800x800 with 8 Axes>"
      ]
     },
     "metadata": {},
     "output_type": "display_data"
    }
   ],
   "source": [
    "size_k = 8\n",
    "f = np.zeros((size_k ,7,7))\n",
    "for i in range(7):\n",
    "    for j in range(7):\n",
    "        for k in range(size_k):\n",
    "            f[k][i][j]= np.max(e[k][2*i:2*i+2,2*j:2*j+2])\n",
    "\n",
    "# for k in range(size_k):\n",
    "#     plt.imshow(f[k], cmap=cm.Greys_r)\n",
    "#     plt.show()\n",
    "fig, axes = plt.subplots(4, 2, figsize=(8, 8))\n",
    "axes[0,0].imshow(f[0], cmap=cm.Greys_r)\n",
    "axes[0,1].imshow(f[1], cmap=cm.Greys_r)\n",
    "axes[1,0].imshow(f[2], cmap=cm.Greys_r)\n",
    "axes[1,1].imshow(f[3], cmap=cm.Greys_r)\n",
    "\n",
    "axes[2,0].imshow(f[4], cmap=cm.Greys_r)\n",
    "axes[2,1].imshow(f[5], cmap=cm.Greys_r)\n",
    "axes[3,0].imshow(f[6], cmap=cm.Greys_r)\n",
    "axes[3,1].imshow(f[7], cmap=cm.Greys_r)\n",
    "plt.show()"
   ]
  },
  {
   "cell_type": "code",
   "execution_count": 14,
   "id": "c93751f7-679b-43e5-a919-186269f7118e",
   "metadata": {},
   "outputs": [
    {
     "data": {
      "image/png": "[encoded data removed]",
      "text/plain": [
       "<Figure size 800x800 with 16 Axes>"
      ]
     },
     "metadata": {},
     "output_type": "display_data"
    }
   ],
   "source": [
    "size_k = 16\n",
    "size_w = 8\n",
    "ff = np.zeros((size_w ,9,9))\n",
    "for w in range(size_w):\n",
    "    ff[w] = np.pad(f[w].reshape((7,7)), ((1, 1), (1, 1)), 'constant', constant_values=((0, 0), (0,0)))\n",
    "g = np.zeros((size_k ,7,7))\n",
    "for i in range(7):\n",
    "    for j in range(7):\n",
    "        for k in range(size_k):\n",
    "            for w in range(size_w):\n",
    "                g[k][i][j] = g[k][i][j] + np.sum(ff[w][i:i+3,j:j+3]*tf.sign(model.layers[14].get_weights()[0][:, :,w, k]))\n",
    "            g[k][i][j] = (g[k][i][j]-model.layers[15].get_weights()[2][k])/np.sqrt(model.layers[15].get_weights()[3][k])*model.layers[15].get_weights()[0][k]+model.layers[15].get_weights()[1][k]\n",
    "            if g[k][i][j] < 0: g[k][i][j]=0\n",
    "\n",
    "# for k in range(size_k):\n",
    "#     plt.imshow(g[k], cmap=cm.Greys_r)\n",
    "#     plt.show()\n",
    "fig, axes = plt.subplots(4, 4, figsize=(8, 8))\n",
    "axes[0,0].imshow(g[0], cmap=cm.Greys_r)\n",
    "axes[0,1].imshow(g[1], cmap=cm.Greys_r)\n",
    "axes[1,0].imshow(g[2], cmap=cm.Greys_r)\n",
    "axes[1,1].imshow(g[3], cmap=cm.Greys_r)\n",
    "\n",
    "axes[2,0].imshow(g[4], cmap=cm.Greys_r)\n",
    "axes[2,1].imshow(g[5], cmap=cm.Greys_r)\n",
    "axes[3,0].imshow(g[6], cmap=cm.Greys_r)\n",
    "axes[3,1].imshow(g[7], cmap=cm.Greys_r)\n",
    "\n",
    "axes[0,2].imshow(g[8], cmap=cm.Greys_r)\n",
    "axes[0,3].imshow(g[9], cmap=cm.Greys_r)\n",
    "axes[1,2].imshow(g[10], cmap=cm.Greys_r)\n",
    "axes[1,3].imshow(g[11], cmap=cm.Greys_r)\n",
    "\n",
    "axes[2,2].imshow(g[12], cmap=cm.Greys_r)\n",
    "axes[2,3].imshow(g[13], cmap=cm.Greys_r)\n",
    "axes[3,2].imshow(g[14], cmap=cm.Greys_r)\n",
    "axes[3,3].imshow(g[15], cmap=cm.Greys_r)\n",
    "plt.show()"
   ]
  },
  {
   "cell_type": "markdown",
   "id": "5075b4ec-a4e7-4e0b-b5d3-4127f1712bcc",
   "metadata": {},
   "source": [
    "## Global Maxpool"
   ]
  },
  {
   "cell_type": "code",
   "execution_count": 15,
   "id": "9e9c2376-bcfa-4193-b62e-c6f17e947a10",
   "metadata": {},
   "outputs": [
    {
     "name": "stdout",
     "output_type": "stream",
     "text": [
      "[5.36134192 3.90686803 3.19106441 4.37567185 4.36000084 1.56711426\n",
      " 2.94919049 3.64318054 5.88770314 1.82071261 5.06273605 5.48654882\n",
      " 4.55651431 2.60375804 2.17327976 4.80474815]\n"
     ]
    }
   ],
   "source": [
    "size_k = 16\n",
    "h = np.zeros((size_k))\n",
    "for k in range(size_k):\n",
    "    h[k]= np.max(g[k])\n",
    "\n",
    "print(h)"
   ]
  },
  {
   "cell_type": "code",
   "execution_count": 20,
   "id": "5a317516-aa0c-4ff5-901b-e2be0e637a3a",
   "metadata": {},
   "outputs": [
    {
     "name": "stdout",
     "output_type": "stream",
     "text": [
      "[-3.31942869 -4.64194528 -3.26262218 -2.66285323 -7.58980373  4.73886275\n",
      " -4.59654636 -3.97840844 -2.17032752 -3.48595106]\n"
     ]
    }
   ],
   "source": [
    "i = np.array([])\n",
    "for k in range(10):\n",
    "    i = np.append(i,np.sum(np.round(model.layers[18].get_weights()[0][:, k], 3)*h) + np.round(model.layers[18].get_weights()[1][k], 3))\n",
    "print(i)"
   ]
  },
  {
   "cell_type": "code",
   "execution_count": 21,
   "id": "7dab2111-2cad-4318-b0e1-4ad490fdfb7a",
   "metadata": {},
   "outputs": [
    {
     "data": {
      "text/plain": [
       "np.int64(5)"
      ]
     },
     "execution_count": 21,
     "metadata": {},
     "output_type": "execute_result"
    }
   ],
   "source": [
    "np.argmax(i)"
   ]
  },
  {
   "cell_type": "markdown",
   "id": "884cacda-a905-49ab-ba47-935db5a571c1",
   "metadata": {},
   "source": [
    "# Extract Weight"
   ]
  },
  {
   "cell_type": "code",
   "execution_count": 9,
   "id": "e286c92c-f140-40a3-ac3b-ca6d8b8b12ee",
   "metadata": {},
   "outputs": [
    {
     "data": {
      "image/png": "[encoded data removed]",
      "text/plain": [
       "<Figure size 640x480 with 1 Axes>"
      ]
     },
     "metadata": {},
     "output_type": "display_data"
    },
    {
     "name": "stdout",
     "output_type": "stream",
     "text": [
      "0\n"
     ]
    }
   ],
   "source": [
    "import matplotlib.cm as cm\n",
    "import matplotlib.pyplot as plt\n",
    "# Load and preprocess MNIST data\n",
    "(x_train, y_train), (x_test, y_test) = datasets.mnist.load_data()\n",
    "\n",
    "plt.imshow(x_train[1], cmap=cm.Greys_r)\n",
    "plt.show()\n",
    "print(x_train[1])"
   ]
  },
  {
   "cell_type": "code",
   "execution_count": 21,
   "id": "6d70ec6e-12b3-4b22-9d5a-d7a00779ff90",
   "metadata": {},
   "outputs": [
    {
     "name": "stdout",
     "output_type": "stream",
     "text": [
      "0\n",
      "1\n",
      "2\n",
      "3\n",
      "4\n",
      "5\n",
      "6\n",
      "7\n",
      "8\n",
      "9\n"
     ]
    }
   ],
   "source": [
    "f = open(\"demofile2.txt\", \"w\")\n",
    "cnt = 0\n",
    "i = 0\n",
    "while (cnt<10):\n",
    "    if(y_test[i] == cnt):\n",
    "        print(cnt)\n",
    "        cnt +=1\n",
    "        for j in range(28):\n",
    "            for k in range(28):\n",
    "                f.write(\"%0.2X\" % x_test[i][j][k]+'\\n')\n",
    "    i+=1\n",
    "\n",
    "f.close()"
   ]
  },
  {
   "cell_type": "code",
   "execution_count": 9,
   "id": "3df95825-a453-4e62-b80a-a2ade741a4e9",
   "metadata": {},
   "outputs": [
    {
     "name": "stdout",
     "output_type": "stream",
     "text": [
      "111111100\n",
      "011000000\n",
      "101111101\n",
      "111111001\n"
     ]
    }
   ],
   "source": [
    "size_k = 4\n",
    "for k in range(size_k):\n",
    "    t = np.array(tf.sign(model.layers[0].get_weights()[0][:, :, 0, k])).flatten()\n",
    "    # print(t)\n",
    "    # print(\"{:04b}\".format(k), end=\"\") #kernel id\n",
    "    # print(\"{:03b}\".format(0), end=\"\") #window id\n",
    "    for tt in t:\n",
    "        if tt == -1:\n",
    "            print('1', end=\"\")\n",
    "        else: print('0', end=\"\")\n",
    "    print('')"
   ]
  },
  {
   "cell_type": "code",
   "execution_count": 10,
   "id": "f7ba9780-310c-4c04-96a5-4c527b9859bb",
   "metadata": {},
   "outputs": [
    {
     "name": "stdout",
     "output_type": "stream",
     "text": [
      "000000101\n",
      "111110100\n",
      "010001010\n",
      "100101111\n",
      "000111111\n",
      "101000000\n",
      "101111111\n",
      "101111101\n",
      "010011011\n",
      "100110001\n",
      "101111111\n",
      "001111111\n",
      "100010111\n",
      "110011001\n",
      "000010111\n",
      "011000100\n"
     ]
    }
   ],
   "source": [
    "size_k = 4\n",
    "size_w = 4\n",
    "for k in range(size_k):\n",
    "    for w in range(size_w):\n",
    "        t = np.array(tf.sign(model.layers[3].get_weights()[0][:, :, w, k])).flatten()\n",
    "        # print(\"{:04b}\".format(k), end=\"\") #kernel id\n",
    "        # print(\"{:03b}\".format(w), end=\"\") #window id\n",
    "        for tt in t:\n",
    "            if tt == -1:\n",
    "                print('1', end=\"\")\n",
    "            else: print('0', end=\"\")\n",
    "        print('')"
   ]
  },
  {
   "cell_type": "code",
   "execution_count": 11,
   "id": "29566a98-f79e-4186-88c0-6d4203caccd2",
   "metadata": {},
   "outputs": [
    {
     "name": "stdout",
     "output_type": "stream",
     "text": [
      "000110000\n",
      "000101111\n",
      "100110111\n",
      "010010000\n",
      "001111100\n",
      "000111010\n",
      "000000100\n",
      "100100001\n",
      "111111011\n",
      "100101100\n",
      "001101101\n",
      "110110111\n",
      "111010111\n",
      "011000000\n",
      "110100000\n",
      "010010001\n",
      "011011010\n",
      "111011100\n",
      "111101011\n",
      "001001000\n",
      "000100110\n",
      "001011000\n",
      "000011111\n",
      "111111100\n",
      "000000001\n",
      "110101001\n",
      "110100001\n",
      "110111111\n",
      "110110011\n",
      "000000111\n",
      "000111111\n",
      "101011111\n"
     ]
    }
   ],
   "source": [
    "size_k = 8\n",
    "size_w = 4\n",
    "for k in range(size_k):\n",
    "    for w in range(size_w):\n",
    "        t = np.array(tf.sign(model.layers[7].get_weights()[0][:, :, w, k])).flatten()\n",
    "        # print(\"{:04b}\".format(k), end=\"\") #kernel id\n",
    "        # print(\"{:03b}\".format(w), end=\"\") #window id\n",
    "        for tt in t:\n",
    "            if tt == -1:\n",
    "                print('1', end=\"\")\n",
    "            else: print('0', end=\"\")\n",
    "        print('')"
   ]
  },
  {
   "cell_type": "code",
   "execution_count": 12,
   "id": "532eeada-7615-4de5-b617-844e6fddfb97",
   "metadata": {},
   "outputs": [
    {
     "name": "stdout",
     "output_type": "stream",
     "text": [
      "011110101\n",
      "111110000\n",
      "111111100\n",
      "110110111\n",
      "101111000\n",
      "100100110\n",
      "110000011\n",
      "001101111\n",
      "110110110\n",
      "100000011\n",
      "010010001\n",
      "010010101\n",
      "111111110\n",
      "000000000\n",
      "000101111\n",
      "110110110\n",
      "110111111\n",
      "000000010\n",
      "111011000\n",
      "000111000\n",
      "111111011\n",
      "011011001\n",
      "001000110\n",
      "101111111\n",
      "001000110\n",
      "000000111\n",
      "001100111\n",
      "000111000\n",
      "110111011\n",
      "111111110\n",
      "010010010\n",
      "101001111\n",
      "111111111\n",
      "010001010\n",
      "100000000\n",
      "000100111\n",
      "111110010\n",
      "100110111\n",
      "101111110\n",
      "010010111\n",
      "000100111\n",
      "011010110\n",
      "011110110\n",
      "101001000\n",
      "110111000\n",
      "000001010\n",
      "010010111\n",
      "111111111\n",
      "110000110\n",
      "111000000\n",
      "111111111\n",
      "000000111\n",
      "111111100\n",
      "110100111\n",
      "101100111\n",
      "000000010\n",
      "111001100\n",
      "011011111\n",
      "001011110\n",
      "111111100\n",
      "101110110\n",
      "000000001\n",
      "000100001\n",
      "100101010\n"
     ]
    }
   ],
   "source": [
    "size_k = 8\n",
    "size_w = 8\n",
    "for k in range(size_k):\n",
    "    for w in range(size_w):\n",
    "        t = np.array(tf.sign(model.layers[10].get_weights()[0][:, :, w, k])).flatten()\n",
    "        # print(\"{:04b}\".format(k), end=\"\") #kernel id\n",
    "        # print(\"{:03b}\".format(w), end=\"\") #window id\n",
    "        for tt in t:\n",
    "            if tt == -1:\n",
    "                print('1', end=\"\")\n",
    "            else: print('0', end=\"\")\n",
    "        print('')"
   ]
  },
  {
   "cell_type": "code",
   "execution_count": 13,
   "id": "a406b85b-5280-4556-93fa-27d5194bac15",
   "metadata": {},
   "outputs": [
    {
     "name": "stdout",
     "output_type": "stream",
     "text": [
      "010100100\n",
      "101011011\n",
      "110011011\n",
      "111001000\n",
      "110111001\n",
      "111000000\n",
      "001000011\n",
      "011110111\n",
      "111111000\n",
      "010000100\n",
      "001111111\n",
      "111010010\n",
      "110000100\n",
      "000111111\n",
      "000000011\n",
      "010111000\n",
      "100010000\n",
      "011011111\n",
      "001010111\n",
      "111001001\n",
      "011001111\n",
      "000100100\n",
      "011011001\n",
      "001111101\n",
      "001000111\n",
      "000100110\n",
      "000110000\n",
      "001011001\n",
      "001000100\n",
      "101011011\n",
      "011100011\n",
      "111000111\n",
      "011111101\n",
      "001110000\n",
      "100100000\n",
      "000000111\n",
      "100110000\n",
      "111001000\n",
      "001011000\n",
      "011000100\n",
      "111011001\n",
      "101110011\n",
      "001101011\n",
      "101101101\n",
      "111001001\n",
      "110011001\n",
      "111110111\n",
      "110111101\n",
      "011111001\n",
      "001100000\n",
      "000111000\n",
      "000011111\n",
      "100100000\n",
      "001101110\n",
      "001100110\n",
      "111010111\n",
      "111100111\n",
      "000110111\n",
      "001101101\n",
      "110000111\n",
      "011111111\n",
      "011000100\n",
      "001000111\n",
      "110110111\n",
      "001001001\n",
      "111001001\n",
      "111000001\n",
      "010110100\n",
      "101101001\n",
      "100101101\n",
      "101000000\n",
      "100011011\n",
      "100110101\n",
      "100001000\n",
      "101000000\n",
      "001010110\n",
      "111111000\n",
      "000000001\n",
      "011111001\n",
      "000000111\n",
      "110100111\n",
      "000101101\n",
      "111101100\n",
      "001001111\n",
      "011111111\n",
      "001000101\n",
      "000000101\n",
      "110110111\n",
      "011110100\n",
      "000011000\n",
      "001011000\n",
      "100110110\n",
      "011011000\n",
      "100000000\n",
      "100100111\n",
      "000001111\n",
      "110111010\n",
      "000001001\n",
      "000111000\n",
      "100111110\n",
      "011001000\n",
      "000101111\n",
      "100001101\n",
      "100110001\n",
      "011110111\n",
      "000001000\n",
      "110110111\n",
      "110110011\n",
      "000010001\n",
      "101101101\n",
      "111101100\n",
      "001000001\n",
      "011110110\n",
      "001010110\n",
      "000000010\n",
      "100110001\n",
      "110010000\n",
      "100000111\n",
      "111110100\n",
      "001110110\n",
      "000010000\n",
      "111111010\n",
      "110110111\n",
      "000000000\n",
      "110111000\n",
      "101110101\n",
      "000000000\n",
      "011001000\n"
     ]
    }
   ],
   "source": [
    "size_k = 16\n",
    "size_w = 8\n",
    "for k in range(size_k):\n",
    "    for w in range(size_w):\n",
    "        t = np.array(tf.sign(model.layers[14].get_weights()[0][:, :, w, k])).flatten()\n",
    "        # print(\"{:04b}\".format(k), end=\"\") #kernel id\n",
    "        # print(\"{:03b}\".format(w), end=\"\") #window id\n",
    "        for tt in t:\n",
    "            if tt == -1:\n",
    "                print('1', end=\"\")\n",
    "            else: print('0', end=\"\")\n",
    "        print('')"
   ]
  },
  {
   "cell_type": "code",
   "execution_count": 7,
   "id": "3fa7d566-3a50-44c1-acea-b6f23d236185",
   "metadata": {},
   "outputs": [],
   "source": [
    "def int_to_twos_complement_format(num, bits):\n",
    "    mask = (1 << bits) - 1\n",
    "    return \"{:0{}b}\".format(num & mask, bits)"
   ]
  },
  {
   "cell_type": "code",
   "execution_count": 17,
   "id": "7db2a553-dfae-475b-9ab4-b02c9f63a3cd",
   "metadata": {},
   "outputs": [
    {
     "name": "stdout",
     "output_type": "stream",
     "text": [
      "111100000111\n",
      "000101110110\n",
      "111011110001\n",
      "111100001000\n"
     ]
    }
   ],
   "source": [
    "layer = 1\n",
    "size_k = 4\n",
    "for k in range(size_k):\n",
    "    mean = model.layers[layer].get_weights()[2][k]\n",
    "    std = np.sqrt(model.layers[layer].get_weights()[3][k])\n",
    "    gamma = model.layers[layer].get_weights()[0][k]\n",
    "    beta = model.layers[layer].get_weights()[1][k]\n",
    "    #Batch normalize yi = gamma*(xi-mean)/sqrt(variance) + beta\n",
    "    # print(\"{:04b}\".format(k), end=\"\") #kernel id\n",
    "    # theta = round(256*gamma/std)\n",
    "    # print(\"{:012b}\".format(theta))\n",
    "    \n",
    "    # print(\"{:04b}\".format(k), end=\"\") #kernel id\n",
    "    phi = round((-mean*gamma/std + beta)*256)\n",
    "    print(int_to_twos_complement_format(phi,12))"
   ]
  },
  {
   "cell_type": "code",
   "execution_count": 19,
   "id": "c28b9913-28f1-41a8-af05-8341b3cfd4c7",
   "metadata": {},
   "outputs": [
    {
     "name": "stdout",
     "output_type": "stream",
     "text": [
      "111110011011\n",
      "000100110111\n",
      "000100011001\n",
      "111101001000\n"
     ]
    }
   ],
   "source": [
    "layer = 4\n",
    "size_k = 4\n",
    "for k in range(size_k):\n",
    "    mean = model.layers[layer].get_weights()[2][k]\n",
    "    std = np.sqrt(model.layers[layer].get_weights()[3][k])\n",
    "    gamma = model.layers[layer].get_weights()[0][k]\n",
    "    beta = model.layers[layer].get_weights()[1][k]\n",
    "    #Batch normalize yi = gamma*(xi-mean)/sqrt(variance) + beta\n",
    "    # print(\"{:04b}\".format(k), end=\"\") #kernel id\n",
    "    theta = round(256*gamma/std)\n",
    "    # print(\"{:012b}\".format(theta))\n",
    "    \n",
    "    # print(\"{:04b}\".format(k), end=\"\") #kernel id\n",
    "    phi = round((-mean*gamma/std + beta)*256)\n",
    "    print(int_to_twos_complement_format(phi,12))"
   ]
  },
  {
   "cell_type": "code",
   "execution_count": 21,
   "id": "3ed92707-fcae-4ab0-a291-8f038bfa2f84",
   "metadata": {},
   "outputs": [
    {
     "name": "stdout",
     "output_type": "stream",
     "text": [
      "000000111100\n",
      "000000111000\n",
      "000000101011\n",
      "000000100000\n",
      "000000101100\n",
      "000000110000\n",
      "000000100000\n",
      "000000101011\n"
     ]
    }
   ],
   "source": [
    "layer = 8\n",
    "size_k = 8\n",
    "for k in range(size_k):\n",
    "    mean = model.layers[layer].get_weights()[2][k]\n",
    "    std = np.sqrt(model.layers[layer].get_weights()[3][k])\n",
    "    gamma = model.layers[layer].get_weights()[0][k]\n",
    "    beta = model.layers[layer].get_weights()[1][k]\n",
    "    #Batch normalize yi = gamma*(xi-mean)/sqrt(variance) + beta\n",
    "    # print(\"{:04b}\".format(k), end=\"\") #kernel id\n",
    "    theta = round(256*gamma/std)\n",
    "    print(\"{:012b}\".format(theta))\n",
    "    \n",
    "    # print(\"{:04b}\".format(k), end=\"\") #kernel id\n",
    "    phi = round((-mean*gamma/std + beta)*256)\n",
    "    # print(int_to_twos_complement_format(phi,12))"
   ]
  },
  {
   "cell_type": "code",
   "execution_count": 23,
   "id": "8b5f4448-7493-4343-b5b0-dafef0355959",
   "metadata": {},
   "outputs": [
    {
     "name": "stdout",
     "output_type": "stream",
     "text": [
      "000000101100\n",
      "000000100010\n",
      "000000110000\n",
      "000000100100\n",
      "000000100100\n",
      "000000101000\n",
      "000000100010\n",
      "000000101011\n"
     ]
    }
   ],
   "source": [
    "layer = 11\n",
    "size_k = 8\n",
    "for k in range(size_k):\n",
    "    mean = model.layers[layer].get_weights()[2][k]\n",
    "    std = np.sqrt(model.layers[layer].get_weights()[3][k])\n",
    "    gamma = model.layers[layer].get_weights()[0][k]\n",
    "    beta = model.layers[layer].get_weights()[1][k]\n",
    "    #Batch normalize yi = gamma*(xi-mean)/sqrt(variance) + beta\n",
    "    # print(\"{:04b}\".format(k), end=\"\") #kernel id\n",
    "    theta = round(256*gamma/std)\n",
    "    print(\"{:012b}\".format(theta))\n",
    "    \n",
    "    # print(\"{:04b}\".format(k), end=\"\") #kernel id\n",
    "    phi = round((-mean*gamma/std + beta)*256)\n",
    "    # print(int_to_twos_complement_format(phi,12))"
   ]
  },
  {
   "cell_type": "code",
   "execution_count": 25,
   "id": "d0234a40-eb35-4389-82af-5546a05042e5",
   "metadata": {},
   "outputs": [
    {
     "name": "stdout",
     "output_type": "stream",
     "text": [
      "000000111111\n",
      "111111111000\n",
      "000001111010\n",
      "111100011101\n",
      "111010011011\n",
      "000110101111\n",
      "111110100100\n",
      "000100000101\n",
      "111101000101\n",
      "111011010001\n",
      "000100001100\n",
      "111100001111\n",
      "000000101110\n",
      "000000010110\n",
      "111101011100\n",
      "111001000001\n"
     ]
    }
   ],
   "source": [
    "layer = 15\n",
    "size_k = 16\n",
    "for k in range(size_k):\n",
    "    mean = model.layers[layer].get_weights()[2][k]\n",
    "    std = np.sqrt(model.layers[layer].get_weights()[3][k])\n",
    "    gamma = model.layers[layer].get_weights()[0][k]\n",
    "    beta = model.layers[layer].get_weights()[1][k]\n",
    "    #Batch normalize yi = gamma*(xi-mean)/sqrt(variance) + beta\n",
    "    # print(\"{:04b}\".format(k), end=\"\") #kernel id\n",
    "    theta = round(256*gamma/std)\n",
    "    # print(\"{:012b}\".format(theta))\n",
    "    \n",
    "    # print(\"{:04b}\".format(k), end=\"\") #kernel id\n",
    "    phi = round((-mean*gamma/std + beta)*256)\n",
    "    print(int_to_twos_complement_format(phi,12))"
   ]
  },
  {
   "cell_type": "code",
   "execution_count": 13,
   "id": "48917bc2-6dd2-42f3-819a-c842d1ec66e2",
   "metadata": {},
   "outputs": [
    {
     "name": "stdout",
     "output_type": "stream",
     "text": [
      "111101011010000000010000111101110001111110011011111101110101000011000101111111100100111111000011111101111110111111111101\n",
      "000000110100111110010001000001110011111101101100000011100010111111100001111111010011000001011000111101011010000000111110\n",
      "111110101010000001100000000011001100111111110010000000101101111111010101111111110100111110111001000001011100111101010000\n",
      "111101001111000000010010111101101101000011001111000000001010000000010101111110110011111110110001111111111001000001101001\n",
      "000010010101111101000000000010111100000001000110111110011100111111110000111111010011000001010110111110101000000000010111\n",
      "000000101101000000100101111111110010111111011111000001101101111100110110111111101101000001011010111110110110000001100110\n",
      "111111010111111111011001000001011001111111111110111101101110111100001011111101000110000010110000000010100000111111001001\n",
      "000001010101111111111001000001111111000001100111111101001010000000001011000001001011111110000000000000110011111101010101\n",
      "000000101111111100110010111111101000111101111101111100111001000000111010111101101011111111111100000001001101000010101110\n",
      "111100111101111111100001000001100001000000001010000010000010111111001111000011110010000001001101111111001111111111011110\n",
      "000010101001000001101111111111100111000001010010111111101100000001100011000010010110111101001011000000010001111101100101\n",
      "000000011111111111111101111110100010111110100000111101110100000001010011000011001101111110111010000000111110111101101000\n",
      "111110010111000010011010111101000001111110000101000001110010000000110011111110110011111110111110000000111011111111100010\n",
      "000001111000000011110001111110011100111101111101000000101100111110001100111111111000000010001111111101110001000001000110\n",
      "000010010011111100010001111111011011111111111111000010100000111111001001000000101001111100101101000001010000000010101010\n",
      "111100100000111110010111111111010110000010010110111111101100000001010111111100010111000001101110111110011101111111010010\n"
     ]
    }
   ],
   "source": [
    "# for k in range(10):\n",
    "#     for w in model.layers[18].get_weights()[0][:, k]:\n",
    "#         # print(\"{:04b}\".format(k), end=\"\") #kernel id\n",
    "#         weight = round(256*w)\n",
    "#         print(int_to_twos_complement_format(weight,12))\n",
    "\n",
    "for w in range(16):\n",
    "    for k in range(10):\n",
    "        temp = model.layers[18].get_weights()[0][:, k][w]\n",
    "        # print(\"{:04b}\".format(k), end=\"\") #kernel id\n",
    "        weight = round(256*temp)\n",
    "        print(int_to_twos_complement_format(weight,12), end='')\n",
    "    print('')\n"
   ]
  },
  {
   "cell_type": "code",
   "execution_count": 27,
   "id": "49439953-ce0b-4158-9d2d-71907e0cba68",
   "metadata": {},
   "outputs": [
    {
     "name": "stdout",
     "output_type": "stream",
     "text": [
      "111111010001\n",
      "000001101111\n",
      "111111101110\n",
      "111111111100\n",
      "000000000110\n",
      "111111010110\n",
      "111111101001\n",
      "000000001000\n",
      "111111101110\n",
      "111111100111\n"
     ]
    }
   ],
   "source": [
    "for k in range(10):\n",
    "    w = model.layers[18].get_weights()[1][k]\n",
    "    # print(\"{:04b}\".format(k), end=\"\") #kernel id\n",
    "    weight = round(256*w)\n",
    "    print(int_to_twos_complement_format(weight,12))"
   ]
  },
  {
   "cell_type": "code",
   "execution_count": null,
   "id": "8bd31d9d-c69e-4638-991d-e0d4901f888c",
   "metadata": {},
   "outputs": [],
   "source": []
  }
 ],
 "metadata": {
  "kernelspec": {
   "display_name": "Python 3 (ipykernel)",
   "language": "python",
   "name": "python3"
  },
  "language_info": {
   "codemirror_mode": {
    "name": "ipython",
    "version": 3
   },
   "file_extension": ".py",
   "mimetype": "text/x-python",
   "name": "python",
   "nbconvert_exporter": "python",
   "pygments_lexer": "ipython3",
   "version": "3.10.14"
  }
 },
 "nbformat": 4,
 "nbformat_minor": 5
}
